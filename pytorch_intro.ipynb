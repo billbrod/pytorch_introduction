{
 "cells": [
  {
   "cell_type": "markdown",
   "id": "2d0adee5",
   "metadata": {},
   "source": [
    "While pytorch is primarily used for neural networks, it is very good at solving a wider variety of nonlinear optimization problems with large numbers of parameters and/or large datasets. (If your problem has a closed form solution (e.g., linear regression), is a standard machine learning method, or operates on a small data set with a small number of parameters, you're probably better off using a different python library, such as [scikit-learn](https://scikit-learn.org/stable/index.html) or [scipy](https://docs.scipy.org/doc/scipy/reference/generated/scipy.optimize.curve_fit.html)).\n",
    "\n",
    "Pytorch is so powerful for these tools because it has automatic differentiation built into it. When solving optimization problems, you need to know the gradient, understanding how the output of a model changes as you vary the input. This requires differentiating your model and in the olden days, this calculus would all have to be done by hand. Automatic differentiation (which is also present in other libraries, like tensorflow) means that your code will do the calculus for you: as long as your model and problem are written completely in pytorch, it can compute the gradient automatically. Note this restriction though: *every part* of the problem has to be written in pytorch. You can't mix `numpy` or `scikit-learn` in with the pytorch in your model code. In practice, this means that much of what you write will start with `torch.` instead of `np.`; fortunately, pytorch is robust enough now that pretty much any computation you wish to perform can be done in pytorch.\n",
    "\n",
    "In the following example, we'll walk through the use of pytorch to fit a simple model of spatial frequency tuning across multiple voxels, like in my [recent paper](https://jov.arvojournals.org/article.aspx?articleid=2778653) ([github repo](https://github.com/billbrod/spatial-frequency-preferences)).\n",
    "\n",
    "We will start by simulating and then fitting the data from a single voxel, before looking into how pytorch can easily handle the multi-voxel case."
   ]
  },
  {
   "cell_type": "code",
   "execution_count": 1,
   "id": "4cc452e5",
   "metadata": {},
   "outputs": [],
   "source": [
    "# to install these, run `pip install tqdm torch matplotlib`\n",
    "\n",
    "import matplotlib.pyplot as plt\n",
    "import torch\n",
    "# if you get errors with the progress bars, it means there's a problem with your\n",
    "# installation of ipywidgets: https://ipywidgets.readthedocs.io/en/latest/user_install.html#installing-in-jupyterlab-3-0\n",
    "from tqdm.auto import tqdm\n",
    "\n",
    "\n",
    "%matplotlib inline"
   ]
  },
  {
   "cell_type": "markdown",
   "id": "10394dbd",
   "metadata": {},
   "source": [
    "For model fitting in pytorch, we need several components:\n",
    "1. Input data\n",
    "2. Output data\n",
    "3. The model, which accepts the input data, returns predictions for the output data, and has some parameters which dictate how this happens\n",
    "4. An objective function, which tells us how good our predictions are\n",
    "5. An optimizer, which knows how to update the model's parameters in order to minimize the objective function\n",
    "6. A training loop, where we actually try to fit the parameters\n",
    "\n",
    "this is a basic example with linear regression (pytorch is overkill for this and, as we'll see, actually doesn't do that good of a job here)\n",
    "\n",
    "Let's start with the input data:"
   ]
  },
  {
   "cell_type": "code",
   "execution_count": 2,
   "id": "1147ee30",
   "metadata": {},
   "outputs": [],
   "source": [
    "x = torch.logspace(-2, 1, 100)"
   ]
  },
  {
   "cell_type": "markdown",
   "id": "fbe06617",
   "metadata": {},
   "source": [
    "We can think of a tensor like an array: it's n-dimensional and holds numbers."
   ]
  },
  {
   "cell_type": "code",
   "execution_count": 3,
   "id": "a693956a",
   "metadata": {},
   "outputs": [
    {
     "data": {
      "text/plain": [
       "tensor([1.0000e-02, 1.0723e-02, 1.1498e-02, 1.2328e-02, 1.3219e-02, 1.4175e-02,\n",
       "        1.5199e-02, 1.6298e-02, 1.7475e-02, 1.8738e-02, 2.0092e-02, 2.1544e-02,\n",
       "        2.3101e-02, 2.4771e-02, 2.6561e-02, 2.8480e-02, 3.0539e-02, 3.2745e-02,\n",
       "        3.5112e-02, 3.7649e-02, 4.0370e-02, 4.3288e-02, 4.6416e-02, 4.9770e-02,\n",
       "        5.3367e-02, 5.7224e-02, 6.1359e-02, 6.5793e-02, 7.0548e-02, 7.5646e-02,\n",
       "        8.1113e-02, 8.6975e-02, 9.3260e-02, 1.0000e-01, 1.0723e-01, 1.1498e-01,\n",
       "        1.2328e-01, 1.3219e-01, 1.4175e-01, 1.5199e-01, 1.6298e-01, 1.7475e-01,\n",
       "        1.8738e-01, 2.0092e-01, 2.1544e-01, 2.3101e-01, 2.4771e-01, 2.6561e-01,\n",
       "        2.8480e-01, 3.0539e-01, 3.2745e-01, 3.5112e-01, 3.7649e-01, 4.0370e-01,\n",
       "        4.3288e-01, 4.6416e-01, 4.9770e-01, 5.3367e-01, 5.7224e-01, 6.1359e-01,\n",
       "        6.5793e-01, 7.0548e-01, 7.5646e-01, 8.1113e-01, 8.6975e-01, 9.3260e-01,\n",
       "        1.0000e+00, 1.0723e+00, 1.1498e+00, 1.2328e+00, 1.3219e+00, 1.4175e+00,\n",
       "        1.5199e+00, 1.6298e+00, 1.7475e+00, 1.8738e+00, 2.0092e+00, 2.1544e+00,\n",
       "        2.3101e+00, 2.4771e+00, 2.6561e+00, 2.8480e+00, 3.0539e+00, 3.2745e+00,\n",
       "        3.5112e+00, 3.7649e+00, 4.0370e+00, 4.3288e+00, 4.6416e+00, 4.9770e+00,\n",
       "        5.3367e+00, 5.7224e+00, 6.1359e+00, 6.5793e+00, 7.0548e+00, 7.5646e+00,\n",
       "        8.1113e+00, 8.6975e+00, 9.3260e+00, 1.0000e+01])"
      ]
     },
     "execution_count": 3,
     "metadata": {},
     "output_type": "execute_result"
    }
   ],
   "source": [
    "x"
   ]
  },
  {
   "cell_type": "markdown",
   "id": "77652fb5",
   "metadata": {},
   "source": [
    "Let's simulate our output data. For that, we'll need our tuning curve. Let's use a simple three parameter log-Gaussian. Note how all the computations start with `torch.`! The exception is the basic arithmetic expressions (e.g., `**`, `-`), which get implicitly converted to the torch versions."
   ]
  },
  {
   "cell_type": "code",
   "execution_count": 4,
   "id": "1d1efdbc",
   "metadata": {},
   "outputs": [
    {
     "data": {
      "text/plain": [
       "[<matplotlib.lines.Line2D at 0x7f285a454c70>]"
      ]
     },
     "execution_count": 4,
     "metadata": {},
     "output_type": "execute_result"
    },
    {
     "data": {
      "image/png": "[encoded data removed]",
      "text/plain": [
       "<Figure size 432x288 with 1 Axes>"
      ]
     },
     "metadata": {
      "needs_background": "light"
     },
     "output_type": "display_data"
    }
   ],
   "source": [
    "def log_gauss(x, amplitude=1, mode=1, sigma=1):\n",
    "    # everything has to be a tensor\n",
    "    if not isinstance(amplitude, torch.Tensor):\n",
    "        amplitude = torch.tensor(amplitude)\n",
    "    if not isinstance(sigma, torch.Tensor):\n",
    "        sigma = torch.tensor(sigma)\n",
    "    if not isinstance(mode, torch.Tensor):\n",
    "        mode = torch.tensor(mode)\n",
    "    return amplitude * torch.exp(-((torch.log2(x) - torch.log2(mode))**2) / (2*sigma**2))\n",
    "\n",
    "plt.plot(x, log_gauss(x))"
   ]
  },
  {
   "cell_type": "markdown",
   "id": "d0ebc2e4",
   "metadata": {},
   "source": [
    "Now for our simulated output data, we'll take some random parameters (from uniform distribution between 0 and 3) and generate the responses from the tuning curve. For learning the basics, we won't add any noise -- in this case, we should be able to fit the data perfectly."
   ]
  },
  {
   "cell_type": "code",
   "execution_count": 5,
   "id": "cbcc19a1",
   "metadata": {},
   "outputs": [
    {
     "name": "stdout",
     "output_type": "stream",
     "text": [
      "amplitude=tensor(2.9799), mode=tensor(0.3329), sigma=tensor(0.4917)\n"
     ]
    }
   ],
   "source": [
    "amplitude, mode, sigma = 3*torch.rand(3)\n",
    "print(f'{amplitude=}, {mode=}, {sigma=}')"
   ]
  },
  {
   "cell_type": "code",
   "execution_count": 6,
   "id": "39110503",
   "metadata": {},
   "outputs": [
    {
     "data": {
      "text/plain": [
       "<matplotlib.collections.PathCollection at 0x7f285834e2e0>"
      ]
     },
     "execution_count": 6,
     "metadata": {},
     "output_type": "execute_result"
    },
    {
     "data": {
      "image/png": "[encoded data removed]",
      "text/plain": [
       "<Figure size 432x288 with 1 Axes>"
      ]
     },
     "metadata": {
      "needs_background": "light"
     },
     "output_type": "display_data"
    }
   ],
   "source": [
    "y = log_gauss(x, amplitude, mode, sigma)\n",
    "plt.scatter(x, y)"
   ]
  },
  {
   "cell_type": "markdown",
   "id": "ca5aca01",
   "metadata": {},
   "source": [
    "Now, let's create our model. The model will transform the input data to the output data, based on some parameters. It will look a lot like the code we used to simulate the data. That's good! In general, a model like this is a generative model, and can be easily used to simulate data. Doing so is a good idea -- you can use simulated data to check that your training procedure is working, which is especially important when you're working with a new or complicated model.\n",
    "\n",
    "We could make our model a function or series of functions, but our life will be easier if we use objects (see [this](https://www.codecademy.com/learn/learn-python/modules/learn-python-introduction-to-classes-u) for more about classes in python).\n",
    "\n",
    "For our purposes, models should:\n",
    "1. inherit `torch.nn.Module`\n",
    "2. have an `__init__` method which initializes the object\n",
    "3. have a `forward` method which tells you how to transform the input to the output"
   ]
  },
  {
   "cell_type": "code",
   "execution_count": 7,
   "id": "ff995938",
   "metadata": {},
   "outputs": [],
   "source": [
    "# pretty much any method you write should have `self` as its first argument (see the course above for why and when you would not want to do that).\n",
    "class SingleVoxelTuning(torch.nn.Module):\n",
    "    def __init__(self):\n",
    "        # this runs the initialization code for torch.nn.Module, which sets up a bunch of stuff.\n",
    "        super().__init__()\n",
    "        # by marking something as a parameter, we're making it clear that this is what we want to update.\n",
    "        # By using `self.` here, these parameters will be attached to the particular instance of the model,\n",
    "        # allowing us to access them later, both within methods and as a user.\n",
    "        self.amplitude = torch.nn.Parameter(torch.rand(1, dtype=torch.float32))\n",
    "        self.mode = torch.nn.Parameter(torch.rand(1, dtype=torch.float32))\n",
    "        self.sigma = torch.nn.Parameter(torch.rand(1, dtype=torch.float32))\n",
    "        # we could allow the user to set initial values for these parameters, but setting random values is generally a good idea.\n",
    "        # you'll want to train your model multiple times, and you want to see that you find a good solution no matter what parameter values you start with.\n",
    "        # when you're finishing up your project and getting ready to share it, you can set the seeds of the random number generators \n",
    "        # (with both `np.random.seed` and `torch.manual_seed`) to make your results reproducible.\n",
    "\n",
    "    def forward(self, x):\n",
    "        return log_gauss(x, self.amplitude, self.mode, self.sigma)"
   ]
  },
  {
   "cell_type": "markdown",
   "id": "1564cc18",
   "metadata": {},
   "source": [
    "This is how you create an instance of our general class above."
   ]
  },
  {
   "cell_type": "code",
   "execution_count": 22,
   "id": "a7da5b8e",
   "metadata": {},
   "outputs": [],
   "source": [
    "voxel = SingleVoxelTuning()"
   ]
  },
  {
   "cell_type": "markdown",
   "id": "b8ff2c2d",
   "metadata": {},
   "source": [
    "Calling `voxel(x)` is the same as calling `voxel.forward(x)` (I think this is only true if we've inherited `torch.nn.Module`). In either case, they turn the input data into the output."
   ]
  },
  {
   "cell_type": "code",
   "execution_count": 23,
   "id": "bb820009",
   "metadata": {},
   "outputs": [
    {
     "name": "stdout",
     "output_type": "stream",
     "text": [
      "tensor([1.6235e-08, 3.5046e-08, 7.4387e-08, 1.5524e-07, 3.1856e-07, 6.4272e-07,\n",
      "        1.2750e-06, 2.4869e-06, 4.7694e-06, 8.9935e-06, 1.6674e-05, 3.0397e-05,\n",
      "        5.4484e-05, 9.6021e-05, 1.6639e-04, 2.8349e-04, 4.7490e-04, 7.8223e-04,\n",
      "        1.2668e-03, 2.0173e-03, 3.1584e-03, 4.8622e-03, 7.3596e-03, 1.0953e-02,\n",
      "        1.6028e-02, 2.3060e-02, 3.2622e-02, 4.5376e-02, 6.2057e-02, 8.3449e-02,\n",
      "        1.1033e-01, 1.4343e-01, 1.8334e-01, 2.3041e-01, 2.8472e-01, 3.4594e-01,\n",
      "        4.1327e-01, 4.8543e-01, 5.6063e-01, 6.3662e-01, 7.1080e-01, 7.8032e-01,\n",
      "        8.4227e-01, 8.9391e-01, 9.3281e-01, 9.5708e-01, 9.6552e-01, 9.5771e-01,\n",
      "        9.3404e-01, 8.9569e-01, 8.4451e-01, 7.8290e-01, 7.1363e-01, 6.3958e-01,\n",
      "        5.6360e-01, 4.8833e-01, 4.1601e-01, 3.4847e-01, 2.8699e-01, 2.3240e-01,\n",
      "        1.8504e-01, 1.4486e-01, 1.1151e-01, 8.4392e-02, 6.2801e-02, 4.5950e-02,\n",
      "        3.3057e-02, 2.3383e-02, 1.6263e-02, 1.1121e-02, 7.4774e-03, 4.9433e-03,\n",
      "        3.2132e-03, 2.0536e-03, 1.2905e-03, 7.9739e-04, 4.8442e-04, 2.8936e-04,\n",
      "        1.6995e-04, 9.8141e-05, 5.5724e-05, 3.1109e-05, 1.7076e-05, 9.2164e-06,\n",
      "        4.8908e-06, 2.5519e-06, 1.3092e-06, 6.6039e-07, 3.2753e-07, 1.5972e-07,\n",
      "        7.6585e-08, 3.6105e-08, 1.6736e-08, 7.6279e-09, 3.4183e-09, 1.5062e-09,\n",
      "        6.5252e-10, 2.7795e-10, 1.1641e-10, 4.7941e-11],\n",
      "       grad_fn=<MulBackward0>)\n"
     ]
    },
    {
     "data": {
      "text/plain": [
       "tensor([1.6235e-08, 3.5046e-08, 7.4387e-08, 1.5524e-07, 3.1856e-07, 6.4272e-07,\n",
       "        1.2750e-06, 2.4869e-06, 4.7694e-06, 8.9935e-06, 1.6674e-05, 3.0397e-05,\n",
       "        5.4484e-05, 9.6021e-05, 1.6639e-04, 2.8349e-04, 4.7490e-04, 7.8223e-04,\n",
       "        1.2668e-03, 2.0173e-03, 3.1584e-03, 4.8622e-03, 7.3596e-03, 1.0953e-02,\n",
       "        1.6028e-02, 2.3060e-02, 3.2622e-02, 4.5376e-02, 6.2057e-02, 8.3449e-02,\n",
       "        1.1033e-01, 1.4343e-01, 1.8334e-01, 2.3041e-01, 2.8472e-01, 3.4594e-01,\n",
       "        4.1327e-01, 4.8543e-01, 5.6063e-01, 6.3662e-01, 7.1080e-01, 7.8032e-01,\n",
       "        8.4227e-01, 8.9391e-01, 9.3281e-01, 9.5708e-01, 9.6552e-01, 9.5771e-01,\n",
       "        9.3404e-01, 8.9569e-01, 8.4451e-01, 7.8290e-01, 7.1363e-01, 6.3958e-01,\n",
       "        5.6360e-01, 4.8833e-01, 4.1601e-01, 3.4847e-01, 2.8699e-01, 2.3240e-01,\n",
       "        1.8504e-01, 1.4486e-01, 1.1151e-01, 8.4392e-02, 6.2801e-02, 4.5950e-02,\n",
       "        3.3057e-02, 2.3383e-02, 1.6263e-02, 1.1121e-02, 7.4774e-03, 4.9433e-03,\n",
       "        3.2132e-03, 2.0536e-03, 1.2905e-03, 7.9739e-04, 4.8442e-04, 2.8936e-04,\n",
       "        1.6995e-04, 9.8141e-05, 5.5724e-05, 3.1109e-05, 1.7076e-05, 9.2164e-06,\n",
       "        4.8908e-06, 2.5519e-06, 1.3092e-06, 6.6039e-07, 3.2753e-07, 1.5972e-07,\n",
       "        7.6585e-08, 3.6105e-08, 1.6736e-08, 7.6279e-09, 3.4183e-09, 1.5062e-09,\n",
       "        6.5252e-10, 2.7795e-10, 1.1641e-10, 4.7941e-11],\n",
       "       grad_fn=<MulBackward0>)"
      ]
     },
     "execution_count": 23,
     "metadata": {},
     "output_type": "execute_result"
    }
   ],
   "source": [
    "print(voxel(x))\n",
    "voxel.forward(x)"
   ]
  },
  {
   "cell_type": "markdown",
   "id": "4fd3d80f",
   "metadata": {},
   "source": [
    "Most functions that accept numpy arrays can also accept tensors, but if the tensor have a gradient attached we have to call `.detach()` first or the function will yell at you. We can tell that `voxel(x)` has a gradient attached because of the `grad_fn=<MulBackwards0>` above. Generally, anything that has interacted with a `torch.nn.Parameter` will have a gradient attached"
   ]
  },
  {
   "cell_type": "code",
   "execution_count": 24,
   "id": "582b385d",
   "metadata": {},
   "outputs": [
    {
     "data": {
      "text/plain": [
       "<matplotlib.collections.PathCollection at 0x7f2856f3b310>"
      ]
     },
     "execution_count": 24,
     "metadata": {},
     "output_type": "execute_result"
    },
    {
     "data": {
      "image/png": "[encoded data removed]",
      "text/plain": [
       "<Figure size 432x288 with 1 Axes>"
      ]
     },
     "metadata": {
      "needs_background": "light"
     },
     "output_type": "display_data"
    }
   ],
   "source": [
    "plt.scatter(x, voxel(x).detach())"
   ]
  },
  {
   "cell_type": "markdown",
   "id": "d19ee90b",
   "metadata": {},
   "source": [
    "This model was initialized with some random parameter values. We can examine these values whenever we like:"
   ]
  },
  {
   "cell_type": "code",
   "execution_count": 25,
   "id": "fad6d0ce",
   "metadata": {},
   "outputs": [
    {
     "data": {
      "text/plain": [
       "Parameter containing:\n",
       "tensor([0.9655], requires_grad=True)"
      ]
     },
     "execution_count": 25,
     "metadata": {},
     "output_type": "execute_result"
    }
   ],
   "source": [
    "voxel.amplitude"
   ]
  },
  {
   "cell_type": "markdown",
   "id": "62de6422",
   "metadata": {},
   "source": [
    "We can use `voxel.named_parameters()` to see all of them at once:"
   ]
  },
  {
   "cell_type": "code",
   "execution_count": 26,
   "id": "768a7738",
   "metadata": {},
   "outputs": [
    {
     "data": {
      "text/plain": [
       "[('amplitude',\n",
       "  Parameter containing:\n",
       "  tensor([0.9655], requires_grad=True)),\n",
       " ('mode',\n",
       "  Parameter containing:\n",
       "  tensor([0.2480], requires_grad=True)),\n",
       " ('sigma',\n",
       "  Parameter containing:\n",
       "  tensor([0.7742], requires_grad=True))]"
      ]
     },
     "execution_count": 26,
     "metadata": {},
     "output_type": "execute_result"
    }
   ],
   "source": [
    "list(voxel.named_parameters())"
   ]
  },
  {
   "cell_type": "markdown",
   "id": "e49ba223",
   "metadata": {},
   "source": [
    "Over the course of learning, these parameters will change, as pytorch attempts to find the values that reduce the objective function as much as possible.\n",
    "\n",
    "That means our objective function is pretty important! So let's define it. For now, let's just use mean-squared error:"
   ]
  },
  {
   "cell_type": "code",
   "execution_count": 13,
   "id": "222d4654",
   "metadata": {},
   "outputs": [],
   "source": [
    "def obj_func(x, y):\n",
    "    # we have to use torch.mean (instead of np.mean) but the basic arithmetic symbols (-, +, **, etc) are all fine\n",
    "    return torch.mean((x-y)**2)"
   ]
  },
  {
   "cell_type": "markdown",
   "id": "63ff28e7",
   "metadata": {},
   "source": [
    "Objective functions should accept your output data and your prediction, and return a scalar. They tell you how *bad* your prediction is -- the lower the number, the better.\n",
    "\n",
    "You should write them so they don't make assumptions about the shape of the data they accept, so you can reuse them, and rely on functions like `torch.mean`, `torch.sum`, etc to combine them into a single value"
   ]
  },
  {
   "cell_type": "code",
   "execution_count": 14,
   "id": "67cecdb1",
   "metadata": {},
   "outputs": [
    {
     "data": {
      "text/plain": [
       "tensor(0.7738, grad_fn=<MeanBackward0>)"
      ]
     },
     "execution_count": 14,
     "metadata": {},
     "output_type": "execute_result"
    }
   ],
   "source": [
    "obj_func(y, voxel(x))"
   ]
  },
  {
   "cell_type": "markdown",
   "id": "c37ed446",
   "metadata": {},
   "source": [
    "pytorch has a bunch of optimizers, all under `torch.optim`. you can try the other ones out yourself, but I typically use either `SGD` or `Adam`. SGD is easier to understand (it's stochastic gradient descent), whereas Adam has some bells and whistles on it and typically performs better\n",
    "\n",
    "all optimizers will require you to set a learning rate (`lr`) and they often have other arguments you can set as well. the learning rate determines the size of the gradient step you take. The larger your learning rate, the more your parameter values will change on each iteration. Too large and you'll be jumping all over the place, unable to actually decrease the gradient -- a good sign of this is if your parameter values and loss are changing wildly. Too small and your parameter values will barely change, so that training will take forever -- if everything looks flat, then your learning rate is too small.\n",
    "\n",
    "The learning rate and the optimizer's other arguments are called *hyperparameters* and you will have to play around with them to find the best result"
   ]
  },
  {
   "cell_type": "code",
   "execution_count": 27,
   "id": "bf30b117",
   "metadata": {},
   "outputs": [],
   "source": [
    "optim = torch.optim.Adam(voxel.parameters(), lr=1e-2,)"
   ]
  },
  {
   "cell_type": "markdown",
   "id": "a0ed680e",
   "metadata": {},
   "source": [
    "That's all the preliminary work, let's try and fit our model!\n",
    "\n",
    "you'll typically do this in a `for` loop (to run for some number of steps) or a `while` loop (to run it until your loss gets under some value). I typically use `for` loops, especially during development because I want to avoid the possibility of my code running forever\n",
    "\n",
    "The core of each loop iteration is"
   ]
  },
  {
   "cell_type": "code",
   "execution_count": 28,
   "id": "c315e8f4",
   "metadata": {},
   "outputs": [],
   "source": [
    "losses = []\n",
    "param_vals = torch.tensor([])"
   ]
  },
  {
   "cell_type": "code",
   "execution_count": 29,
   "id": "ac4071a7",
   "metadata": {},
   "outputs": [
    {
     "data": {
      "application/vnd.jupyter.widget-view+json": {
       "model_id": "85617693121447b28801e196d065f548",
       "version_major": 2,
       "version_minor": 0
      },
      "text/plain": [
       "  0%|          | 0/1000 [00:00<?, ?it/s]"
      ]
     },
     "metadata": {},
     "output_type": "display_data"
    }
   ],
   "source": [
    "new_params = []\n",
    "pbar = tqdm(range(1000))\n",
    "for i in pbar:\n",
    "    # these next four lines are the core of the loop: \n",
    "    # 1. generate the prediction\n",
    "    y_pred = voxel(x)\n",
    "    # 2. compute the loss\n",
    "    loss = obj_func(y, y_pred)\n",
    "    # 3. Reset the gradients (see https://stackoverflow.com/a/48009142 for why this is necessary)\n",
    "    optim.zero_grad()\n",
    "    # 4. compute the gradients of the loss wrt to each parameter (\"run the backwards pass\")\n",
    "    loss.backward()\n",
    "    # 5. update all the parameters (\"step the optimizer\")\n",
    "    optim.step()\n",
    "    # these next lines are just to keep track of the loss and parameter values over time\n",
    "    # .item() and .clone().detach() do the same thing -- make sure that we just get the *value*, \n",
    "    # rather than the *object* itself (which will update on each loop) (.item() only works for scalars)\n",
    "    losses.append(loss.item())\n",
    "    new_params.append(torch.tensor([p.item() for p in voxel.parameters()]))\n",
    "    pbar.set_postfix(loss=losses[-1], params=new_params[-1], )\n",
    "# turn this list of 1d tensors into one 2d tensor\n",
    "param_vals = torch.concat([param_vals, torch.stack(new_params)])"
   ]
  },
  {
   "cell_type": "markdown",
   "id": "411d7230",
   "metadata": {},
   "source": [
    "Let's plot the parameter values and loss over time"
   ]
  },
  {
   "cell_type": "code",
   "execution_count": 30,
   "id": "955850b5",
   "metadata": {},
   "outputs": [
    {
     "data": {
      "text/plain": [
       "Text(0.5, 1.0, 'Data and model predictions')"
      ]
     },
     "execution_count": 30,
     "metadata": {},
     "output_type": "execute_result"
    },
    {
     "data": {
      "image/png": "[encoded data removed]",
      "text/plain": [
       "<Figure size 1080x360 with 3 Axes>"
      ]
     },
     "metadata": {
      "needs_background": "light"
     },
     "output_type": "display_data"
    }
   ],
   "source": [
    "fig, axes = plt.subplots(1, 3, figsize=(15, 5))\n",
    "axes[0].plot(param_vals)\n",
    "axes[0].legend(['amplitude', 'mode', 'sigma'])\n",
    "axes[0].set_title('Parameter values')\n",
    "for i, val in enumerate([amplitude, mode, sigma]):\n",
    "    axes[0].axhline(val.item(), c=f'C{i}', linestyle='--')\n",
    "axes[1].plot(losses)\n",
    "axes[1].set_title(\"Loss\")\n",
    "axes[2].scatter(x, y)\n",
    "axes[2].plot(x, voxel(x).detach())\n",
    "axes[2].plot(x, log_gauss(x, amplitude, mode, sigma), 'k--')\n",
    "axes[2].set_title(\"Data and model predictions\")"
   ]
  },
  {
   "cell_type": "markdown",
   "id": "be4fd9eb",
   "metadata": {},
   "source": [
    "And that's the basics of model fitting!\n",
    "\n",
    "# With noise\n",
    "\n",
    "Now let's add some noise to our simulated data. With this, we will no longer be able to perfectly recover the parameters, but we should still do pretty good. We'll use normally distributed noise for this."
   ]
  },
  {
   "cell_type": "code",
   "execution_count": 31,
   "id": "e56a5e60",
   "metadata": {},
   "outputs": [
    {
     "name": "stdout",
     "output_type": "stream",
     "text": [
      "amplitude=tensor(1.5691), mode=tensor(1.4653), sigma=tensor(1.8146)\n"
     ]
    }
   ],
   "source": [
    "amplitude, mode, sigma = 3*torch.rand(3)\n",
    "print(f'{amplitude=}, {mode=}, {sigma=}')"
   ]
  },
  {
   "cell_type": "code",
   "execution_count": 32,
   "id": "ad63a765",
   "metadata": {},
   "outputs": [
    {
     "data": {
      "text/plain": [
       "<matplotlib.collections.PathCollection at 0x7f2856de1b50>"
      ]
     },
     "execution_count": 32,
     "metadata": {},
     "output_type": "execute_result"
    },
    {
     "data": {
      "image/png": "[encoded data removed]",
      "text/plain": [
       "<Figure size 432x288 with 1 Axes>"
      ]
     },
     "metadata": {
      "needs_background": "light"
     },
     "output_type": "display_data"
    }
   ],
   "source": [
    "y = log_gauss(x, amplitude, mode, sigma)\n",
    "y += .3 * torch.randn_like(y)\n",
    "plt.scatter(x, y)"
   ]
  },
  {
   "cell_type": "markdown",
   "id": "7349eac4",
   "metadata": {},
   "source": [
    "Everything else is the same as before. We don't need to redefine things, but let's initialize a new instance of our model, optimizer, etc"
   ]
  },
  {
   "cell_type": "code",
   "execution_count": 33,
   "id": "ab22a711",
   "metadata": {},
   "outputs": [],
   "source": [
    "noisy_voxel = SingleVoxelTuning()"
   ]
  },
  {
   "cell_type": "markdown",
   "id": "755f8275",
   "metadata": {},
   "source": [
    "Note that we now have two instances of our voxel model. They're the same `type`, because they're both instances of our `SingleVoxelTuning` class, but they are independent of each other: they have different parameter values that can be varied separately."
   ]
  },
  {
   "cell_type": "code",
   "execution_count": 34,
   "id": "dac060c3",
   "metadata": {},
   "outputs": [
    {
     "name": "stdout",
     "output_type": "stream",
     "text": [
      "True\n",
      "[('amplitude', Parameter containing:\n",
      "tensor([2.9798], requires_grad=True)), ('mode', Parameter containing:\n",
      "tensor([0.3329], requires_grad=True)), ('sigma', Parameter containing:\n",
      "tensor([0.4917], requires_grad=True))]\n",
      "[('amplitude', Parameter containing:\n",
      "tensor([0.4223], requires_grad=True)), ('mode', Parameter containing:\n",
      "tensor([0.5648], requires_grad=True)), ('sigma', Parameter containing:\n",
      "tensor([0.2091], requires_grad=True))]\n"
     ]
    }
   ],
   "source": [
    "print(type(voxel) == type(noisy_voxel))\n",
    "print(list(voxel.named_parameters()))\n",
    "print(list(noisy_voxel.named_parameters()))"
   ]
  },
  {
   "cell_type": "markdown",
   "id": "5b7aac48",
   "metadata": {},
   "source": [
    "Let's reinitialize our optimizer and the lists we use to track training progress"
   ]
  },
  {
   "cell_type": "code",
   "execution_count": 35,
   "id": "e8938b57",
   "metadata": {},
   "outputs": [],
   "source": [
    "optim = torch.optim.Adam(voxel.parameters(), lr=1e-2,)"
   ]
  },
  {
   "cell_type": "code",
   "execution_count": 36,
   "id": "06c4455d",
   "metadata": {},
   "outputs": [],
   "source": [
    "losses = []\n",
    "param_vals = torch.tensor([])"
   ]
  },
  {
   "cell_type": "code",
   "execution_count": 37,
   "id": "da933f94",
   "metadata": {},
   "outputs": [
    {
     "data": {
      "application/vnd.jupyter.widget-view+json": {
       "model_id": "9d627450887f42afb9f4e24750bb4542",
       "version_major": 2,
       "version_minor": 0
      },
      "text/plain": [
       "  0%|          | 0/1000 [00:00<?, ?it/s]"
      ]
     },
     "metadata": {},
     "output_type": "display_data"
    }
   ],
   "source": [
    "new_params = []\n",
    "pbar = tqdm(range(1000))\n",
    "for i in pbar:\n",
    "    # these next four lines are the core of the loop: \n",
    "    # 1. generate the prediction\n",
    "    y_pred = voxel(x)\n",
    "    # 2. compute the loss\n",
    "    loss = obj_func(y, y_pred)\n",
    "    # 3. Reset the gradients (see https://stackoverflow.com/a/48009142 for why this is necessary)\n",
    "    optim.zero_grad()\n",
    "    # 4. compute the gradients of the loss wrt to each parameter (\"run the backwards pass\")\n",
    "    loss.backward()\n",
    "    # 5. update all the parameters (\"step the optimizer\")\n",
    "    optim.step()\n",
    "    # these next lines are just to keep track of the loss and parameter values over time\n",
    "    # .item() and .clone().detach() do the same thing -- make sure that we just get the *value*, \n",
    "    # rather than the *object* itself (which will update on each loop) (.item() only works for scalars)\n",
    "    losses.append(loss.item())\n",
    "    new_params.append(torch.tensor([p.item() for p in voxel.parameters()]))\n",
    "    pbar.set_postfix(loss=losses[-1], params=new_params[-1], )\n",
    "# turn this list of 1d tensors into one 2d tensor\n",
    "param_vals = torch.concat([param_vals, torch.stack(new_params)])"
   ]
  },
  {
   "cell_type": "markdown",
   "id": "4c80bdd0",
   "metadata": {},
   "source": [
    "Let's plot the parameter values and loss over time. We can see that our paramter values are close, but not identical to the ones we initialized, and it looks like they (and the loss) have stopped changing. This means we've converged. We might be disappointed by how far off our parameter values are, but when we look at the data and predictions, we can see why: they're doing a pretty good job accounting for the data! In fact, it actually has a *lower* loss than the generating parameters! Noise does weird things."
   ]
  },
  {
   "cell_type": "code",
   "execution_count": 38,
   "id": "be54e561",
   "metadata": {},
   "outputs": [
    {
     "data": {
      "text/plain": [
       "Text(0.5, 1.0, 'Data and model predictions')"
      ]
     },
     "execution_count": 38,
     "metadata": {},
     "output_type": "execute_result"
    },
    {
     "data": {
      "image/png": "[encoded data removed]",
      "text/plain": [
       "<Figure size 1080x360 with 3 Axes>"
      ]
     },
     "metadata": {
      "needs_background": "light"
     },
     "output_type": "display_data"
    }
   ],
   "source": [
    "fig, axes = plt.subplots(1, 3, figsize=(15, 5))\n",
    "axes[0].plot(param_vals)\n",
    "axes[0].legend(['amplitude', 'mode', 'sigma'])\n",
    "axes[0].set_title('Parameter values')\n",
    "for i, val in enumerate([amplitude, mode, sigma]):\n",
    "    axes[0].axhline(val.item(), c=f'C{i}', linestyle='--')\n",
    "axes[1].semilogy(losses)\n",
    "axes[1].set_title(\"Loss\")\n",
    "axes[1].axhline(obj_func(y, log_gauss(x, amplitude, mode, sigma)), linestyle='--')\n",
    "axes[2].scatter(x, y)\n",
    "axes[2].plot(x, voxel(x).detach())\n",
    "axes[2].plot(x, log_gauss(x, amplitude, mode, sigma), 'k--')\n",
    "axes[2].set_title(\"Data and model predictions\")"
   ]
  },
  {
   "cell_type": "markdown",
   "id": "69eccbe2",
   "metadata": {},
   "source": [
    "# Global parameters\n",
    "\n",
    "the following small example shows how you can make use of pytorch's [broadcasting](https://pytorch.org/docs/stable/notes/broadcasting.html) capabilities to share two global parameters and one local parameters in the same model\n",
    "\n",
    "for this, we'll say our model consists of two voxels, which have the same sigma and amplitude, but different modes:"
   ]
  },
  {
   "cell_type": "code",
   "execution_count": 39,
   "id": "885be90e",
   "metadata": {},
   "outputs": [
    {
     "name": "stdout",
     "output_type": "stream",
     "text": [
      "amp=tensor(1.6891), sigma=tensor(1.5631), modes=tensor([0.8439, 1.6035])\n"
     ]
    }
   ],
   "source": [
    "x = torch.logspace(2, -1, 100)\n",
    "amp, sigma = 3*torch.rand(2, dtype=torch.float32)\n",
    "modes = 3*torch.rand(2, dtype=torch.float32)\n",
    "print(f'{amp=}, {sigma=}, {modes=}')"
   ]
  },
  {
   "cell_type": "markdown",
   "id": "744ebb10",
   "metadata": {},
   "source": [
    "For broadcasting to work, we need to unsqueeze the modes variable, so that it's 2d:"
   ]
  },
  {
   "cell_type": "code",
   "execution_count": 40,
   "id": "b9d9a9df",
   "metadata": {},
   "outputs": [
    {
     "name": "stdout",
     "output_type": "stream",
     "text": [
      "torch.Size([2])\n",
      "torch.Size([2, 1])\n"
     ]
    }
   ],
   "source": [
    "print(modes.shape)\n",
    "modes = modes.unsqueeze(1)\n",
    "print(modes.shape)"
   ]
  },
  {
   "cell_type": "markdown",
   "id": "5a819034",
   "metadata": {},
   "source": [
    "Now when we call `log_gauss` with `x` (which has shape `[100]`), pytorch will automatically broadcast the shapes so that the output has shape `[2,100]`:"
   ]
  },
  {
   "cell_type": "code",
   "execution_count": 41,
   "id": "c67123fa",
   "metadata": {},
   "outputs": [
    {
     "data": {
      "text/plain": [
       "torch.Size([2, 100])"
      ]
     },
     "execution_count": 41,
     "metadata": {},
     "output_type": "execute_result"
    }
   ],
   "source": [
    "log_gauss(x, amp, modes, sigma).shape"
   ]
  },
  {
   "cell_type": "markdown",
   "id": "23a46a4e",
   "metadata": {},
   "source": [
    "Then when we multiply it by `x` (which has shape `[100]`), pytorch will automatically broadcast the shapes and so y has shape `[2,100]`:"
   ]
  },
  {
   "cell_type": "code",
   "execution_count": 42,
   "id": "a2de5718",
   "metadata": {},
   "outputs": [
    {
     "name": "stdout",
     "output_type": "stream",
     "text": [
      "torch.Size([2, 100])\n"
     ]
    },
    {
     "data": {
      "text/plain": [
       "<matplotlib.collections.PathCollection at 0x7f2856a76eb0>"
      ]
     },
     "execution_count": 42,
     "metadata": {},
     "output_type": "execute_result"
    },
    {
     "data": {
      "image/png": "[encoded data removed]",
      "text/plain": [
       "<Figure size 432x288 with 1 Axes>"
      ]
     },
     "metadata": {
      "needs_background": "light"
     },
     "output_type": "display_data"
    }
   ],
   "source": [
    "y = log_gauss(x, amp, modes, sigma)\n",
    "y = y + .2 * torch.randn_like(y)\n",
    "print(y.shape)\n",
    "\n",
    "plt.scatter(x, y[0])\n",
    "plt.scatter(x, y[1])"
   ]
  },
  {
   "cell_type": "markdown",
   "id": "96a538b7",
   "metadata": {},
   "source": [
    "And that's what we have to do for our model: make sure that `self.modes` is 2d and rely on broadcasting to get the right shape:"
   ]
  },
  {
   "cell_type": "code",
   "execution_count": 45,
   "id": "71e42d84",
   "metadata": {},
   "outputs": [],
   "source": [
    "class MultiVoxelTuning(torch.nn.Module):\n",
    "    def __init__(self):\n",
    "        super().__init__()\n",
    "        self.amplitude = torch.nn.Parameter(torch.rand(1, dtype=torch.float32))\n",
    "        self.modes = torch.nn.Parameter(torch.rand(2, 1, dtype=torch.float32))\n",
    "        self.sigma = torch.nn.Parameter(torch.rand(1, dtype=torch.float32))\n",
    "\n",
    "    def forward(self, x):\n",
    "        return log_gauss(x, self.amplitude, self.modes, self.sigma)\n",
    "    \n",
    "    # you could also do this, which doesn't make use of braodcasting, to get the same result:\n",
    "#     def forward(self, x):\n",
    "#         data = []\n",
    "#         for m in self.modes:\n",
    "#             data.append(log_gauss(x, self.amplitude, m, self.sigma))\n",
    "#         return torch.stack(data)"
   ]
  },
  {
   "cell_type": "code",
   "execution_count": 46,
   "id": "88e4ce55",
   "metadata": {},
   "outputs": [
    {
     "name": "stdout",
     "output_type": "stream",
     "text": [
      "torch.Size([2, 100])\n",
      "[('amplitude', Parameter containing:\n",
      "tensor([0.9441], requires_grad=True)), ('modes', Parameter containing:\n",
      "tensor([[0.6989],\n",
      "        [0.6240]], requires_grad=True)), ('sigma', Parameter containing:\n",
      "tensor([0.8223], requires_grad=True))]\n"
     ]
    },
    {
     "data": {
      "text/plain": [
       "tensor(0.4638, grad_fn=<MeanBackward0>)"
      ]
     },
     "execution_count": 46,
     "metadata": {},
     "output_type": "execute_result"
    }
   ],
   "source": [
    "voxels = MultiVoxelTuning()\n",
    "print(voxels(x).shape)\n",
    "print(list(voxels.named_parameters()))\n",
    "# note that we can use the same objective function, since it works with inputs of any shape\n",
    "obj_func(y, voxels(x))"
   ]
  },
  {
   "cell_type": "markdown",
   "id": "b22fbc4c",
   "metadata": {},
   "source": [
    "Pytorch will automatically update the parameters correctly as we go through the training loop! We set up the optimizer the same as before:"
   ]
  },
  {
   "cell_type": "code",
   "execution_count": 48,
   "id": "7b0ad094",
   "metadata": {},
   "outputs": [],
   "source": [
    "optim = torch.optim.SGD(voxels.parameters(), lr=1e-2)"
   ]
  },
  {
   "cell_type": "markdown",
   "id": "96986418",
   "metadata": {},
   "source": [
    "And then our loop is the same as before (the only difference is how we add the parameters-in-progress to `param_vals`)"
   ]
  },
  {
   "cell_type": "code",
   "execution_count": 49,
   "id": "82f5188b",
   "metadata": {},
   "outputs": [],
   "source": [
    "losses = []\n",
    "param_vals = {k: torch.tensor([]) for k, _ in voxels.named_parameters()}"
   ]
  },
  {
   "cell_type": "code",
   "execution_count": 355,
   "id": "2989b12f",
   "metadata": {},
   "outputs": [
    {
     "data": {
      "text/plain": [
       "<torch.autograd.anomaly_mode.set_detect_anomaly at 0x7f3ef8e629a0>"
      ]
     },
     "execution_count": 355,
     "metadata": {},
     "output_type": "execute_result"
    }
   ],
   "source": [
    "torch.autograd.set_detect_anomaly(True)"
   ]
  },
  {
   "cell_type": "code",
   "execution_count": 62,
   "id": "b39a4b03",
   "metadata": {},
   "outputs": [
    {
     "data": {
      "application/vnd.jupyter.widget-view+json": {
       "model_id": "5bebb1e780474058988f2a2e9e41826a",
       "version_major": 2,
       "version_minor": 0
      },
      "text/plain": [
       "  0%|          | 0/1000 [00:00<?, ?it/s]"
      ]
     },
     "metadata": {},
     "output_type": "display_data"
    }
   ],
   "source": [
    "current_params = {}\n",
    "pbar = tqdm(range(1000))\n",
    "for i in pbar:\n",
    "    # these next four lines are the core of the loop: \n",
    "    # 1. generate the prediction\n",
    "    y_pred = voxels(x)\n",
    "    # 2. compute the loss\n",
    "    loss = obj_func(y, y_pred)\n",
    "    # 3. Reset the gradients (see https://stackoverflow.com/a/48009142 for why this is necessary)\n",
    "    optim.zero_grad()\n",
    "    # 4. compute the gradients of the loss wrt to each parameter (\"run the backwards pass\")\n",
    "    loss.backward()\n",
    "    # 5. update all the parameters (\"step the optimizer\")\n",
    "    optim.step()\n",
    "    # these next lines are just to keep track of the loss and parameter values over time\n",
    "    # .item() and .clone().detach() do the same thing -- make sure that we just get the *value*, \n",
    "    # rather than the *object* itself (which will update on each loop) (.item() only works for scalars)\n",
    "    losses.append(loss.item())\n",
    "#     print(list(voxels.named_parameters()))\n",
    "    for k, v in voxels.named_parameters():\n",
    "        current_params[k] = v.clone().detach()\n",
    "        param_vals[k] = torch.concat([param_vals[k], v.clone().detach()], -1)\n",
    "    pbar.set_postfix(loss=losses[-1], **current_params)"
   ]
  },
  {
   "cell_type": "markdown",
   "id": "eb53dc7a",
   "metadata": {},
   "source": [
    "Let's plot the parameter values and loss over time. We can see that our paramter values are close, but not identical to the ones we initialized, and it looks like they (and the loss) have stopped changing. This means we've converged."
   ]
  },
  {
   "cell_type": "code",
   "execution_count": 63,
   "id": "12ab898a",
   "metadata": {},
   "outputs": [
    {
     "data": {
      "text/plain": [
       "Text(0.5, 1.0, 'Data and model predictions')"
      ]
     },
     "execution_count": 63,
     "metadata": {},
     "output_type": "execute_result"
    },
    {
     "data": {
      "image/png": "[encoded data removed]",
      "text/plain": [
       "<Figure size 1080x360 with 3 Axes>"
      ]
     },
     "metadata": {
      "needs_background": "light"
     },
     "output_type": "display_data"
    }
   ],
   "source": [
    "fig, axes = plt.subplots(1, 3, figsize=(15, 5))\n",
    "axes[0].set_title('Parameter values')\n",
    "axes[0].axhline(modes[0], c='C0', linestyle='--')\n",
    "axes[0].axhline(modes[1], c='C1', linestyle='--')\n",
    "axes[0].axhline(amp, c='C2', linestyle='--')\n",
    "axes[0].axhline(sigma, c='C3', linestyle='--')\n",
    "axes[0].legend(['mode 1', 'mode 2', 'amplitude', 'sigma'])\n",
    "for k in ['modes', 'amplitude', 'sigma']:\n",
    "    axes[0].plot(param_vals[k].T)\n",
    "axes[1].semilogy(losses)\n",
    "axes[1].set_title(\"Loss\")\n",
    "axes[1].axhline(obj_func(y, log_gauss(x, amp, modes, sigma)), linestyle='--')\n",
    "axes[2].scatter(x, y[0])\n",
    "axes[2].scatter(x, y[1])\n",
    "for i, y_ in enumerate(voxels(x).detach()):\n",
    "    axes[2].plot(x, y_, f'C{i}')\n",
    "for i, y_ in enumerate(log_gauss(x, amp, modes, sigma)):\n",
    "    axes[2].plot(x, y_, f'C{i}--')\n",
    "axes[2].set_title(\"Data and model predictions\")"
   ]
  }
 ],
 "metadata": {
  "kernelspec": {
   "display_name": "Python [conda env:pytorch_intro]",
   "language": "python",
   "name": "conda-env-pytorch_intro-py"
  },
  "language_info": {
   "codemirror_mode": {
    "name": "ipython",
    "version": 3
   },
   "file_extension": ".py",
   "mimetype": "text/x-python",
   "name": "python",
   "nbconvert_exporter": "python",
   "pygments_lexer": "ipython3",
   "version": "3.8.0"
  }
 },
 "nbformat": 4,
 "nbformat_minor": 5
}
