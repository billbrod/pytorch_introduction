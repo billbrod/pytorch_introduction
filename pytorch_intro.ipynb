{
 "cells": [
  {
   "cell_type": "markdown",
   "id": "a7b5d278",
   "metadata": {},
   "source": [
    "While pytorch is primarily used for neural networks, it is very good at solving a wider variety of nonlinear optimization problems with large numbers of parameters and/or large datasets. (If your problem has a closed form solution (e.g., linear regression), is a standard machine learning method, or operates on a small data set with a small number of parameters, you're probably better off using a different python library, such as [scikit-learn](https://scikit-learn.org/stable/index.html) or [scipy](https://docs.scipy.org/doc/scipy/reference/generated/scipy.optimize.curve_fit.html)).\n",
    "\n",
    "Pytorch is so powerful for these tools because it has automatic differentiation built into it. When solving optimization problems, you need to know the gradient, understanding how the output of a model changes as you vary the input. This requires differentiating your model and in the olden days, this calculus would all have to be done by hand. Automatic differentiation (which is also present in other libraries, like tensorflow) means that your code will do the calculus for you: as long as your model and problem are written completely in pytorch, it can compute the gradient automatically. Note this restriction though: *every part* of the problem has to be written in pytorch. You can't mix `numpy` or `scikit-learn` in with the pytorch in your model code. In practice, this means that much of what you write will start with `torch.` instead of `np.`; fortunately, pytorch is robust enough now that pretty much any computation you wish to perform can be done in pytorch.\n",
    "\n",
    "In the following example, we'll walk through the use of pytorch to fit a simple model of spatial frequency tuning across multiple voxels, like in my [recent paper](https://jov.arvojournals.org/article.aspx?articleid=2778653) ([github repo](https://github.com/billbrod/spatial-frequency-preferences)).\n",
    "\n",
    "We will start by simulating and then fitting the data from a single voxel, before looking into how pytorch can easily handle the multi-voxel case."
   ]
  },
  {
   "cell_type": "code",
   "execution_count": 1,
   "id": "3cbfc6eb",
   "metadata": {},
   "outputs": [],
   "source": [
    "# to install these, run `pip install tqdm torch matplotlib`\n",
    "\n",
    "import matplotlib.pyplot as plt\n",
    "import torch\n",
    "# if you get errors with the progress bars, it means there's a problem with your\n",
    "# installation of ipywidgets: https://ipywidgets.readthedocs.io/en/latest/user_install.html#installing-in-jupyterlab-3-0\n",
    "from tqdm.auto import tqdm\n",
    "\n",
    "\n",
    "%matplotlib inline"
   ]
  },
  {
   "cell_type": "markdown",
   "id": "4f7521f6",
   "metadata": {},
   "source": [
    "For model fitting in pytorch, we need several components:\n",
    "1. Input data\n",
    "2. Output data\n",
    "3. The model, which accepts the input data, returns predictions for the output data, and has some parameters which dictate how this happens\n",
    "4. An objective function, which tells us how good our predictions are\n",
    "5. An optimizer, which knows how to update the model's parameters in order to minimize the objective function\n",
    "6. A training loop, where we actually try to fit the parameters\n",
    "\n",
    "this is a basic example with linear regression (pytorch is overkill for this and, as we'll see, actually doesn't do that good of a job here)\n",
    "\n",
    "Let's start with the input data:"
   ]
  },
  {
   "cell_type": "code",
   "execution_count": 3,
   "id": "94cc19f1",
   "metadata": {},
   "outputs": [],
   "source": [
    "x = torch.logspace(-2, 1, 100)"
   ]
  },
  {
   "cell_type": "markdown",
   "id": "e9e5ebbf",
   "metadata": {},
   "source": [
    "We can think of a tensor like an array: it's n-dimensional and holds numbers."
   ]
  },
  {
   "cell_type": "code",
   "execution_count": 4,
   "id": "fd9b4d4e",
   "metadata": {},
   "outputs": [
    {
     "data": {
      "text/plain": [
       "tensor([1.0000e-02, 1.0723e-02, 1.1498e-02, 1.2328e-02, 1.3219e-02, 1.4175e-02,\n",
       "        1.5199e-02, 1.6298e-02, 1.7475e-02, 1.8738e-02, 2.0092e-02, 2.1544e-02,\n",
       "        2.3101e-02, 2.4771e-02, 2.6561e-02, 2.8480e-02, 3.0539e-02, 3.2745e-02,\n",
       "        3.5112e-02, 3.7649e-02, 4.0370e-02, 4.3288e-02, 4.6416e-02, 4.9770e-02,\n",
       "        5.3367e-02, 5.7224e-02, 6.1359e-02, 6.5793e-02, 7.0548e-02, 7.5646e-02,\n",
       "        8.1113e-02, 8.6975e-02, 9.3260e-02, 1.0000e-01, 1.0723e-01, 1.1498e-01,\n",
       "        1.2328e-01, 1.3219e-01, 1.4175e-01, 1.5199e-01, 1.6298e-01, 1.7475e-01,\n",
       "        1.8738e-01, 2.0092e-01, 2.1544e-01, 2.3101e-01, 2.4771e-01, 2.6561e-01,\n",
       "        2.8480e-01, 3.0539e-01, 3.2745e-01, 3.5112e-01, 3.7649e-01, 4.0370e-01,\n",
       "        4.3288e-01, 4.6416e-01, 4.9770e-01, 5.3367e-01, 5.7224e-01, 6.1359e-01,\n",
       "        6.5793e-01, 7.0548e-01, 7.5646e-01, 8.1113e-01, 8.6975e-01, 9.3260e-01,\n",
       "        1.0000e+00, 1.0723e+00, 1.1498e+00, 1.2328e+00, 1.3219e+00, 1.4175e+00,\n",
       "        1.5199e+00, 1.6298e+00, 1.7475e+00, 1.8738e+00, 2.0092e+00, 2.1544e+00,\n",
       "        2.3101e+00, 2.4771e+00, 2.6561e+00, 2.8480e+00, 3.0539e+00, 3.2745e+00,\n",
       "        3.5112e+00, 3.7649e+00, 4.0370e+00, 4.3288e+00, 4.6416e+00, 4.9770e+00,\n",
       "        5.3367e+00, 5.7224e+00, 6.1359e+00, 6.5793e+00, 7.0548e+00, 7.5646e+00,\n",
       "        8.1113e+00, 8.6975e+00, 9.3260e+00, 1.0000e+01])"
      ]
     },
     "execution_count": 4,
     "metadata": {},
     "output_type": "execute_result"
    }
   ],
   "source": [
    "x"
   ]
  },
  {
   "cell_type": "markdown",
   "id": "7fca3b97",
   "metadata": {},
   "source": [
    "Let's simulate our output data. For that, we'll need our tuning curve. Let's use a simple three parameter log-Gaussian. Note how all the computations start with `torch.`! The exception is the basic arithmetic expressions (e.g., `**`, `-`), which get implicitly converted to the torch versions."
   ]
  },
  {
   "cell_type": "code",
   "execution_count": 5,
   "id": "65993683",
   "metadata": {},
   "outputs": [
    {
     "data": {
      "text/plain": [
       "[<matplotlib.lines.Line2D at 0x7fb6c80e8ac0>]"
      ]
     },
     "execution_count": 5,
     "metadata": {},
     "output_type": "execute_result"
    },
    {
     "data": {
      "image/png": "[encoded data removed]",
      "text/plain": [
       "<Figure size 432x288 with 1 Axes>"
      ]
     },
     "metadata": {
      "needs_background": "light"
     },
     "output_type": "display_data"
    }
   ],
   "source": [
    "def log_gauss(x, amplitude=1, mode=1, sigma=1):\n",
    "    # everything has to be a tensor\n",
    "    if not isinstance(amplitude, torch.Tensor):\n",
    "        amplitude = torch.tensor(amplitude)\n",
    "    if not isinstance(sigma, torch.Tensor):\n",
    "        sigma = torch.tensor(sigma)\n",
    "    if not isinstance(mode, torch.Tensor):\n",
    "        mode = torch.tensor(mode)\n",
    "    return amplitude * torch.exp(-((torch.log2(x) - torch.log2(mode))**2) / (2*sigma**2))\n",
    "\n",
    "plt.plot(x, log_gauss(x))"
   ]
  },
  {
   "cell_type": "markdown",
   "id": "2dfc6b4e",
   "metadata": {},
   "source": [
    "Now for our simulated output data, we'll take some random parameters (from uniform distribution between 0 and 3), generate the responses from the tuning curve and add some normally distributed noise:"
   ]
  },
  {
   "cell_type": "code",
   "execution_count": 7,
   "id": "f8e079e3",
   "metadata": {},
   "outputs": [
    {
     "name": "stdout",
     "output_type": "stream",
     "text": [
      "amplitude=tensor(1.3280), mode=tensor(1.2849), sigma=tensor(1.2267)\n"
     ]
    }
   ],
   "source": [
    "amplitude, mode, sigma = 3*torch.rand(3)\n",
    "print(f'{amplitude=}, {mode=}, {sigma=}')"
   ]
  },
  {
   "cell_type": "code",
   "execution_count": 8,
   "id": "66b436b2",
   "metadata": {},
   "outputs": [
    {
     "data": {
      "text/plain": [
       "<matplotlib.collections.PathCollection at 0x7fb633ffca60>"
      ]
     },
     "execution_count": 8,
     "metadata": {},
     "output_type": "execute_result"
    },
    {
     "data": {
      "image/png": "[encoded data removed]",
      "text/plain": [
       "<Figure size 432x288 with 1 Axes>"
      ]
     },
     "metadata": {
      "needs_background": "light"
     },
     "output_type": "display_data"
    }
   ],
   "source": [
    "y = log_gauss(x, amplitude, mode, sigma)\n",
    "y = y + .2*torch.randn_like(y)\n",
    "plt.scatter(x, y)"
   ]
  },
  {
   "cell_type": "markdown",
   "id": "9fbf5d11",
   "metadata": {},
   "source": [
    "Now, let's create our model. The model will transform the input data to the output data, based on some parameters. It will look a lot like the code we used to simulate the data. That's good! In general, a model like this is a generative model, and can be easily used to simulate data. Doing so is a good idea -- you can use simulated data to check that your training procedure is working, which is especially important when you're working with a new or complicated model.\n",
    "\n",
    "We could make our model a function or series of functions, but our life will be easier if we use objects (see [this](https://www.codecademy.com/learn/learn-python/modules/learn-python-introduction-to-classes-u) for more about classes in python).\n",
    "\n",
    "For our purposes, models should:\n",
    "1. inherit `torch.nn.Module`\n",
    "2. have an `__init__` method which initializes the object\n",
    "3. have a `forward` method which tells you how to transform the input to the output"
   ]
  },
  {
   "cell_type": "code",
   "execution_count": 10,
   "id": "4bb114ad",
   "metadata": {},
   "outputs": [],
   "source": [
    "# pretty much any method you write should have `self` as its first argument (see the course above for why and when you would not want to do that).\n",
    "class SingleVoxelTuning(torch.nn.Module):\n",
    "    def __init__(self):\n",
    "        # this runs the initialization code for torch.nn.Module, which sets up a bunch of stuff.\n",
    "        super().__init__()\n",
    "        # by marking something as a parameter, we're making it clear that this is what we want to update.\n",
    "        # By using `self.` here, these parameters will be attached to the particular instance of the model,\n",
    "        # allowing us to access them later, both within methods and as a user.\n",
    "        self.amplitude = torch.nn.Parameter(torch.rand(1, dtype=torch.float32))\n",
    "        self.mode = torch.nn.Parameter(torch.rand(1, dtype=torch.float32))\n",
    "        self.sigma = torch.nn.Parameter(torch.rand(1, dtype=torch.float32))\n",
    "        # we could allow the user to set initial values for these parameters, but setting random values is generally a good idea.\n",
    "        # you'll want to train your model multiple times, and you want to see that you find a good solution no matter what parameter values you start with.\n",
    "        # when you're finishing up your project and getting ready to share it, you can set the seeds of the random number generators \n",
    "        # (with both `np.random.seed` and `torch.manual_seed`) to make your results reproducible.\n",
    "\n",
    "    def forward(self, x):\n",
    "        return log_gauss(x, self.amplitude, self.mode, self.sigma)"
   ]
  },
  {
   "cell_type": "markdown",
   "id": "eb020f79",
   "metadata": {},
   "source": [
    "This is how you create an instance of our general class above."
   ]
  },
  {
   "cell_type": "code",
   "execution_count": 60,
   "id": "6d3b28f7",
   "metadata": {},
   "outputs": [],
   "source": [
    "voxel = SingleVoxelTuning()"
   ]
  },
  {
   "cell_type": "markdown",
   "id": "850e5311",
   "metadata": {},
   "source": [
    "Calling `voxel(x)` is the same as calling `voxel.forward(x)` (I think this is only true if we've inherited `torch.nn.Module`). In either case, they turn the input data into the output."
   ]
  },
  {
   "cell_type": "code",
   "execution_count": 12,
   "id": "10e98df6",
   "metadata": {},
   "outputs": [
    {
     "data": {
      "text/plain": [
       "tensor([5.3705e-11, 1.1730e-10, 2.5262e-10, 5.3644e-10, 1.1232e-09, 2.3189e-09,\n",
       "        4.7205e-09, 9.4749e-09, 1.8752e-08, 3.6594e-08, 7.0414e-08, 1.3359e-07,\n",
       "        2.4992e-07, 4.6100e-07, 8.3847e-07, 1.5037e-06, 2.6589e-06, 4.6360e-06,\n",
       "        7.9702e-06, 1.3511e-05, 2.2582e-05, 3.7217e-05, 6.0479e-05, 9.6905e-05,\n",
       "        1.5310e-04, 2.3850e-04, 3.6634e-04, 5.5485e-04, 8.2859e-04, 1.2201e-03,\n",
       "        1.7715e-03, 2.5360e-03, 3.5798e-03, 4.9825e-03, 6.8380e-03, 9.2531e-03,\n",
       "        1.2346e-02, 1.6243e-02, 2.1071e-02, 2.6951e-02, 3.3990e-02, 4.2269e-02,\n",
       "        5.1830e-02, 6.2663e-02, 7.4703e-02, 8.7810e-02, 1.0177e-01, 1.1631e-01,\n",
       "        1.3106e-01, 1.4562e-01, 1.5953e-01, 1.7233e-01, 1.8355e-01, 1.9277e-01,\n",
       "        1.9962e-01, 2.0382e-01, 2.0521e-01, 2.0371e-01, 1.9940e-01, 1.9245e-01,\n",
       "        1.8314e-01, 1.7185e-01, 1.5900e-01, 1.4505e-01, 1.3048e-01, 1.1573e-01,\n",
       "        1.0121e-01, 8.7273e-02, 7.4205e-02, 6.2211e-02, 5.1427e-02, 4.1917e-02,\n",
       "        3.3689e-02, 2.6697e-02, 2.0860e-02, 1.6072e-02, 1.2209e-02, 9.1454e-03,\n",
       "        6.7546e-03, 4.9191e-03, 3.5322e-03, 2.5009e-03, 1.7460e-03, 1.2019e-03,\n",
       "        8.1576e-04, 5.4595e-04, 3.6027e-04, 2.3442e-04, 1.5039e-04, 9.5139e-05,\n",
       "        5.9343e-05, 3.6498e-05, 2.2134e-05, 1.3235e-05, 7.8032e-06, 4.5363e-06,\n",
       "        2.6003e-06, 1.4697e-06, 8.1907e-07, 4.5009e-07],\n",
       "       grad_fn=<MulBackward0>)"
      ]
     },
     "execution_count": 12,
     "metadata": {},
     "output_type": "execute_result"
    }
   ],
   "source": [
    "voxel(x)\n",
    "voxel.forward(x)"
   ]
  },
  {
   "cell_type": "markdown",
   "id": "a84fb740",
   "metadata": {},
   "source": [
    "Most functions that accept numpy arrays can also accept tensors, but if the tensor have a gradient attached we have to call `.detach()` first or the function will yell at you. We can tell that `voxel(x)` has a gradient attached because of the `grad_fn=<MulBackwards0>` above. Generally, anything that has interacted with a `torch.nn.Parameter` will have a gradient attached"
   ]
  },
  {
   "cell_type": "code",
   "execution_count": 14,
   "id": "76488901",
   "metadata": {},
   "outputs": [
    {
     "data": {
      "text/plain": [
       "<matplotlib.collections.PathCollection at 0x7fb6319aa0a0>"
      ]
     },
     "execution_count": 14,
     "metadata": {},
     "output_type": "execute_result"
    },
    {
     "data": {
      "image/png": "[encoded data removed]",
      "text/plain": [
       "<Figure size 432x288 with 1 Axes>"
      ]
     },
     "metadata": {
      "needs_background": "light"
     },
     "output_type": "display_data"
    }
   ],
   "source": [
    "plt.scatter(x, voxel(x).detach())"
   ]
  },
  {
   "cell_type": "markdown",
   "id": "78a69248",
   "metadata": {},
   "source": [
    "This model was initialized with some random parameter values. We can examine these values whenever we like:"
   ]
  },
  {
   "cell_type": "code",
   "execution_count": 19,
   "id": "13e99288",
   "metadata": {},
   "outputs": [
    {
     "data": {
      "text/plain": [
       "Parameter containing:\n",
       "tensor([0.2052], requires_grad=True)"
      ]
     },
     "execution_count": 19,
     "metadata": {},
     "output_type": "execute_result"
    }
   ],
   "source": [
    "voxel.amplitude"
   ]
  },
  {
   "cell_type": "markdown",
   "id": "dc47423f",
   "metadata": {},
   "source": [
    "We can use `voxel.named_parameters()` to see all of them at once:"
   ]
  },
  {
   "cell_type": "code",
   "execution_count": 21,
   "id": "1192798f",
   "metadata": {},
   "outputs": [
    {
     "data": {
      "text/plain": [
       "[('amplitude',\n",
       "  Parameter containing:\n",
       "  tensor([0.2052], requires_grad=True)),\n",
       " ('mode',\n",
       "  Parameter containing:\n",
       "  tensor([0.4970], requires_grad=True)),\n",
       " ('sigma',\n",
       "  Parameter containing:\n",
       "  tensor([0.8483], requires_grad=True))]"
      ]
     },
     "execution_count": 21,
     "metadata": {},
     "output_type": "execute_result"
    }
   ],
   "source": [
    "list(voxel.named_parameters())"
   ]
  },
  {
   "cell_type": "markdown",
   "id": "69d08482",
   "metadata": {},
   "source": [
    "Over the course of learning, these parameters will change, as pytorch attempts to find the values that reduce the objective function as much as possible.\n",
    "\n",
    "That means our objective function is pretty important! So let's define it. For now, let's just use mean-squared error:"
   ]
  },
  {
   "cell_type": "code",
   "execution_count": 22,
   "id": "052ec196",
   "metadata": {},
   "outputs": [],
   "source": [
    "def obj_func(x, y):\n",
    "    # we have to use torch.mean (instead of np.mean) but the basic arithmetic symbols (-, +, **, etc) are all fine\n",
    "    return torch.mean((x-y)**2)"
   ]
  },
  {
   "cell_type": "markdown",
   "id": "edda6168",
   "metadata": {},
   "source": [
    "Objective functions should accept your output data and your prediction, and return a scalar. They tell you how *bad* your prediction is -- the lower the number, the better.\n",
    "\n",
    "You should write them so they don't make assumptions about the shape of the data they accept, so you can reuse them, and rely on functions like `torch.mean`, `torch.sum`, etc to combine them into a single value"
   ]
  },
  {
   "cell_type": "code",
   "execution_count": 23,
   "id": "b90fda49",
   "metadata": {},
   "outputs": [
    {
     "data": {
      "text/plain": [
       "tensor(0.3372, grad_fn=<MeanBackward0>)"
      ]
     },
     "execution_count": 23,
     "metadata": {},
     "output_type": "execute_result"
    }
   ],
   "source": [
    "obj_func(y, voxel(x))"
   ]
  },
  {
   "cell_type": "markdown",
   "id": "dd81bf7b",
   "metadata": {},
   "source": [
    "pytorch has a bunch of optimizers, all under `torch.optim`. you can try the other ones out yourself, but I typically use either `SGD` or `Adam`. SGD is easier to understand (it's stochastic gradient descent), whereas Adam has some bells and whistles on it and typically performs better\n",
    "\n",
    "all optimizers will require you to set a learning rate (`lr`) and they often have other arguments you can set as well. the learning rate determines the size of the gradient step you take. The larger your learning rate, the more your parameter values will change on each iteration. Too large and you'll be jumping all over the place, unable to actually decrease the gradient -- a good sign of this is if your parameter values and loss are changing wildly. Too small and your parameter values will barely change, so that training will take forever -- if everything looks flat, then your learning rate is too small.\n",
    "\n",
    "The learning rate and the optimizer's other arguments are called *hyperparameters* and you will have to play around with them to find the best result"
   ]
  },
  {
   "cell_type": "code",
   "execution_count": 69,
   "id": "7e2ba68c",
   "metadata": {},
   "outputs": [],
   "source": [
    "optim = torch.optim.Adam(voxel.parameters(), lr=1e-4)"
   ]
  },
  {
   "cell_type": "markdown",
   "id": "2fafcd4d",
   "metadata": {},
   "source": [
    "That's all the preliminary work, let's try and fit our model!\n",
    "\n",
    "you'll typically do this in a `for` loop (to run for some number of steps) or a `while` loop (to run it until your loss gets under some value). I typically use `for` loops, especially during development because I want to avoid the possibility of my code running forever\n",
    "\n",
    "The core of each loop iteration is"
   ]
  },
  {
   "cell_type": "code",
   "execution_count": 62,
   "id": "e40f4f02",
   "metadata": {},
   "outputs": [],
   "source": [
    "losses = []\n",
    "param_vals = torch.tensor([])"
   ]
  },
  {
   "cell_type": "code",
   "execution_count": 70,
   "id": "e6b1c722",
   "metadata": {},
   "outputs": [
    {
     "data": {
      "application/vnd.jupyter.widget-view+json": {
       "model_id": "56a7f82e945b4dfe9338ddf0edd77847",
       "version_major": 2,
       "version_minor": 0
      },
      "text/plain": [
       "  0%|          | 0/1000 [00:00<?, ?it/s]"
      ]
     },
     "metadata": {},
     "output_type": "display_data"
    }
   ],
   "source": [
    "new_params = []\n",
    "pbar = tqdm(range(1000))\n",
    "for i in pbar:\n",
    "    # these next four lines are the core of the loop: \n",
    "    # 1. generate the prediction\n",
    "    y_pred = voxel(x)\n",
    "    # 2. compute the loss\n",
    "    loss = obj_func(y, y_pred)\n",
    "    # 3. compute all the gradients (\"run the backwards pass\")\n",
    "    loss.backward()\n",
    "    # 4. update all the parameters (\"step the optimizer\")\n",
    "    optim.step()\n",
    "    # these next lines are just to keep track of the loss and parameter values over time\n",
    "    # .item() and .clone().detach() do the same thing -- make sure that we just get the *value*, \n",
    "    # rather than the *object* itself (which will update on each loop) (.item() only works for scalars)\n",
    "    losses.append(loss.item())\n",
    "    new_params.append(torch.tensor([p.clone().detach().item() for p in voxel.parameters()]))\n",
    "    pbar.set_postfix(loss=losses[-1], params=new_params[-1])\n",
    "# turn this list of 1d tensors into one 2d tensor\n",
    "param_vals = torch.concat([param_vals, torch.stack(new_params)])"
   ]
  },
  {
   "cell_type": "markdown",
   "id": "32bbc255",
   "metadata": {},
   "source": [
    "Let's plot the parameter values and loss over time"
   ]
  },
  {
   "cell_type": "code",
   "execution_count": 71,
   "id": "65d06379",
   "metadata": {},
   "outputs": [
    {
     "data": {
      "text/plain": [
       "Text(0.5, 1.0, 'Loss')"
      ]
     },
     "execution_count": 71,
     "metadata": {},
     "output_type": "execute_result"
    },
    {
     "data": {
      "image/png": "[encoded data removed]",
      "text/plain": [
       "<Figure size 720x360 with 2 Axes>"
      ]
     },
     "metadata": {
      "needs_background": "light"
     },
     "output_type": "display_data"
    }
   ],
   "source": [
    "fig, axes = plt.subplots(1, 2, figsize=(10, 5))\n",
    "axes[0].plot(param_vals)\n",
    "axes[0].set_title('Parameter values')\n",
    "axes[1].plot(losses)\n",
    "axes[1].set_title(\"Loss\")"
   ]
  },
  {
   "cell_type": "markdown",
   "id": "17b92f11",
   "metadata": {},
   "source": [
    "And that's the basics of model fitting!\n",
    "\n",
    "# global parameters\n",
    "\n",
    "the following small example shows how you can make use of pytorch's [broadcasting](https://pytorch.org/docs/stable/notes/broadcasting.html) capabilities to share one global parameter and two local parameters in the same model\n",
    "\n",
    "for this, we'll say our model consists of two linear regressions, which have the same intercept but different slopes:"
   ]
  },
  {
   "cell_type": "code",
   "execution_count": 14,
   "id": "bb905df6",
   "metadata": {},
   "outputs": [],
   "source": [
    "a = torch.tensor([2, 5], dtype=torch.float32)\n",
    "b = torch.tensor([1], dtype=torch.float32)"
   ]
  },
  {
   "cell_type": "markdown",
   "id": "0096c93d",
   "metadata": {},
   "source": [
    "For broadcasting to work, we need to unsqueeze the slope variable, so that it's 2d:"
   ]
  },
  {
   "cell_type": "code",
   "execution_count": 15,
   "id": "b3788de4",
   "metadata": {},
   "outputs": [
    {
     "name": "stdout",
     "output_type": "stream",
     "text": [
      "torch.Size([2])\n",
      "torch.Size([2, 1])\n"
     ]
    }
   ],
   "source": [
    "print(a.shape)\n",
    "a = a.unsqueeze(1)\n",
    "print(a.shape)"
   ]
  },
  {
   "cell_type": "markdown",
   "id": "baec8cb5",
   "metadata": {},
   "source": [
    "Then when we multiply it by `x` (which has shape `[100]`), pytorch will automatically broadcast the shapes and so y has shape `[2,100]`:"
   ]
  },
  {
   "cell_type": "code",
   "execution_count": 16,
   "id": "e7feea1e",
   "metadata": {},
   "outputs": [
    {
     "name": "stdout",
     "output_type": "stream",
     "text": [
      "torch.Size([2, 100])\n"
     ]
    },
    {
     "data": {
      "text/plain": [
       "<matplotlib.collections.PathCollection at 0x7f64cf35c790>"
      ]
     },
     "execution_count": 16,
     "metadata": {},
     "output_type": "execute_result"
    },
    {
     "data": {
      "image/png": "[encoded data removed]",
      "text/plain": [
       "<Figure size 432x288 with 1 Axes>"
      ]
     },
     "metadata": {
      "needs_background": "light"
     },
     "output_type": "display_data"
    }
   ],
   "source": [
    "y = a*x + b\n",
    "y = y + torch.randn_like(y)\n",
    "print(y.shape)\n",
    "\n",
    "plt.scatter(x, y[0])\n",
    "plt.scatter(x, y[1])"
   ]
  },
  {
   "cell_type": "markdown",
   "id": "c6a5a57f",
   "metadata": {},
   "source": [
    "And that's all we have to do for our model: make sure that `self.slopes` is 2d and rely on broadcasting to get the right shape:"
   ]
  },
  {
   "cell_type": "code",
   "execution_count": 17,
   "id": "c66a1501",
   "metadata": {},
   "outputs": [],
   "source": [
    "class PolyReg(torch.nn.Module):\n",
    "    def __init__(self, degree=1):\n",
    "        super().__init__()\n",
    "        if degree == 1:\n",
    "            # note we don't have to unsqueeze here, we just set the shape directly\n",
    "            self.slopes = torch.nn.Parameter(torch.rand(2, 1))\n",
    "            self.intercept = torch.nn.Parameter(torch.rand(1))\n",
    "\n",
    "    def forward(self, x):\n",
    "        return self.slopes * x + self.intercept\n",
    "  \n",
    "    # you could also do this, which doesn't make use of broadcasting, to get the same result\n",
    "#     def forward(self, x):\n",
    "#         data = []\n",
    "#         for s in self.slopes:\n",
    "#             data.append(s * x + self.intercept)\n",
    "#         return torch.stack(data)"
   ]
  },
  {
   "cell_type": "code",
   "execution_count": 18,
   "id": "ed7c8e57",
   "metadata": {},
   "outputs": [
    {
     "data": {
      "text/plain": [
       "tensor(378.7563, grad_fn=<MeanBackward0>)"
      ]
     },
     "execution_count": 18,
     "metadata": {},
     "output_type": "execute_result"
    }
   ],
   "source": [
    "linreg = PolyReg(1)\n",
    "# note that we can use the same objective function, since it works with inputs of any shape\n",
    "obj_func(y, linreg(x))"
   ]
  },
  {
   "cell_type": "markdown",
   "id": "f99c7cb7",
   "metadata": {},
   "source": [
    "Pytorch will automatically update the parameters correctly as we go through the training loop! we need to tell the optimizer to care about the two tensors now:"
   ]
  },
  {
   "cell_type": "code",
   "execution_count": 19,
   "id": "094a6f71",
   "metadata": {},
   "outputs": [],
   "source": [
    "optim = torch.optim.Adam([linreg.slopes, linreg.intercept], lr=1e-3)"
   ]
  },
  {
   "cell_type": "markdown",
   "id": "3df9947c",
   "metadata": {},
   "source": [
    "And then our loop is the same as before (the only difference is how we add the parameters-in-progress to `param_vals`)"
   ]
  },
  {
   "cell_type": "code",
   "execution_count": 20,
   "id": "58305841",
   "metadata": {},
   "outputs": [
    {
     "name": "stderr",
     "output_type": "stream",
     "text": [
      "100%|█| 1000/1000 [00:03<00:00\n"
     ]
    }
   ],
   "source": [
    "losses = []\n",
    "param_vals = []\n",
    "pbar = tqdm(range(1000))\n",
    "for i in pbar:\n",
    "    # these next four lines are the core of the loop: \n",
    "    # 1. generate the prediction\n",
    "    y_pred = linreg(x)\n",
    "    # 2. compute the loss\n",
    "    loss = obj_func(y, y_pred)\n",
    "    # 3. compute all the gradients (\"run the backwards pass\")\n",
    "    loss.backward()\n",
    "    # 4. update all the parameters (\"step the optimizer\")\n",
    "    optim.step()\n",
    "    # these next lines are just to keep track of the loss and parameter values over time\n",
    "    # .item() and .clone().detach() do the same thing -- make sure that we just get the *value*, \n",
    "    # rather than the *object* itself (which will update on each loop) (.item() only works for scalars)\n",
    "    losses.append(loss.item())\n",
    "    # note that we flatten the slopes and concatenating them with the intercept so that we're adding a 1d tensor on each iteration of the loop\n",
    "    param_vals.append(torch.cat([linreg.slopes.clone().detach().flatten(), linreg.intercept.clone().detach()]))\n",
    "    pbar.set_postfix(loss=losses[-1], params=param_vals[-1])\n",
    "# turn this list of 1d tensors into one 2d tensor\n",
    "param_vals = torch.stack(param_vals)"
   ]
  },
  {
   "cell_type": "code",
   "execution_count": 21,
   "id": "2367bd21",
   "metadata": {},
   "outputs": [
    {
     "data": {
      "text/plain": [
       "Text(0.5, 1.0, 'Loss')"
      ]
     },
     "execution_count": 21,
     "metadata": {},
     "output_type": "execute_result"
    },
    {
     "data": {
      "image/png": "[encoded data removed]",
      "text/plain": [
       "<Figure size 720x360 with 2 Axes>"
      ]
     },
     "metadata": {
      "needs_background": "light"
     },
     "output_type": "display_data"
    }
   ],
   "source": [
    "fig, axes = plt.subplots(1, 2, figsize=(10, 5))\n",
    "axes[0].plot(param_vals)\n",
    "axes[0].set_title('Parameter values')\n",
    "axes[1].plot(losses)\n",
    "axes[1].set_title(\"Loss\")"
   ]
  }
 ],
 "metadata": {
  "kernelspec": {
   "display_name": "Python [conda env:pytorch_intro]",
   "language": "python",
   "name": "conda-env-pytorch_intro-py"
  },
  "language_info": {
   "codemirror_mode": {
    "name": "ipython",
    "version": 3
   },
   "file_extension": ".py",
   "mimetype": "text/x-python",
   "name": "python",
   "nbconvert_exporter": "python",
   "pygments_lexer": "ipython3",
   "version": "3.8.0"
  }
 },
 "nbformat": 4,
 "nbformat_minor": 5
}
